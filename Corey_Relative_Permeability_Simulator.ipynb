{
  "nbformat": 4,
  "nbformat_minor": 0,
  "metadata": {
    "colab": {
      "provenance": []
    },
    "kernelspec": {
      "name": "python3",
      "display_name": "Python 3"
    },
    "language_info": {
      "name": "python"
    }
  },
  "cells": [
    {
      "cell_type": "code",
      "execution_count": null,
      "metadata": {
        "id": "2kppWi1JUMgU"
      },
      "outputs": [],
      "source": [
        "import numpy as np\n",
        "import matplotlib.pyplot as plt\n",
        "import ipywidgets as widgets\n",
        "from ipywidgets import interactive\n",
        "\n",
        "# Corey model function\n",
        "def corey_relperm(Sw, Swc, Sor, Krw0, Kro0, nw, no):\n",
        "    S_star = (Sw - Swc) / (1 - Swc - Sor)\n",
        "    S_star = np.clip(S_star, 0.001, 0.999)\n",
        "    Krw = Krw0 * S_star**nw\n",
        "    Kro = Kro0 * (1 - S_star)**no\n",
        "    return Krw, Kro\n",
        "\n",
        "# Plotting function\n",
        "def plot_corey(Swc=0.2, Sor=0.2, Krw0=0.3, Kro0=0.9, nw=3, no=2):\n",
        "    Sw = np.linspace(Swc, 1 - Sor, 100)\n",
        "    Krw, Kro = corey_relperm(Sw, Swc, Sor, Krw0, Kro0, nw, no)\n",
        "\n",
        "    plt.figure(figsize=(8,5))\n",
        "    plt.plot(Sw, Krw, label='Krw (Water Rel. Perm)', linewidth=2)\n",
        "    plt.plot(Sw, Kro, label='Kro (Oil Rel. Perm)', linewidth=2)\n",
        "    plt.xlabel('Water Saturation (Sw)')\n",
        "    plt.ylabel('Relative Permeability')\n",
        "    plt.title('Corey Model: Relative Permeability vs. Saturation')\n",
        "    plt.grid(True)\n",
        "    plt.legend()\n",
        "    plt.ylim(0, 1)\n",
        "    plt.show()\n",
        "\n",
        "# Interactive sliders\n",
        "interactive_plot = interactive(plot_corey,\n",
        "    Swc=widgets.FloatSlider(value=0.2, min=0.0, max=0.4, step=0.01, description='Swc'),\n",
        "    Sor=widgets.FloatSlider(value=0.2, min=0.0, max=0.4, step=0.01, description='Sor'),\n",
        "    Krw0=widgets.FloatSlider(value=0.3, min=0.0, max=1.0, step=0.05, description='Krw0'),\n",
        "    Kro0=widgets.FloatSlider(value=0.9, min=0.0, max=1.0, step=0.05, description='Kro0'),\n",
        "    nw=widgets.IntSlider(value=3, min=1, max=10, step=1, description='n (Water)'),\n",
        "    no=widgets.IntSlider(value=2, min=1, max=10, step=1, description='n (Oil)')\n",
        ")\n",
        "\n",
        "display(interactive_plot)"
      ]
    }
  ]
}